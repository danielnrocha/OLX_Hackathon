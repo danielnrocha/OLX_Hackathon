{
 "cells": [
  {
   "cell_type": "markdown",
   "metadata": {},
   "source": [
    "## Crowdshipping na OLX Pay\n",
    "### Union Squad – Letícia Fiorito, Daniel Rocha, Everton Arruda, Allan Kildare\n",
    "Por meio de um mecanismo de economia do compartilhamento, criamos uma área dentro do app da OLX para que usuário possam ser entregadores independentes. Assim, é criado um mecanismo de remuneração para oferecer a facilidade do comprador não precisar se deslocar para coletar o item comprado. \n",
    "\n",
    "Tendo em vista que 25% das vendas das OLX são realizadas em menos de 24h, focamos nosso problema em otimizar vendas de produtos de médio porte (eletrodomésticos, mobília, etc.) para médias ditâncias (alcance municipal e regional) que possam ser transportados por meio de veículos de médio porte (van, kombi e carro). \n",
    "\n",
    "O código deste arquivo fornece um mecanismo de experiência do usuário e do empregador por meio da criação de algotimos de:\n",
    "\n",
    "#### 1) preço dinâmico do frete; \n",
    "\n",
    "#### 2) otimização de rotas de última milha; \n",
    "\n",
    "#### 3) estimativa de tempo de entrega (acompanhamento live);\n",
    "\n",
    "#### 4) entregas conjuntas de diversos produtos; \n",
    "\n",
    "#### 5) chat entre o entregador e as demais parte. \n",
    "\n",
    "As soluções apresentadas também otimizam a logística reversa, pois o entregador autônomo também pode transportar produtos que precisem ser trocados ou retificados."
   ]
  },
  {
   "cell_type": "code",
   "execution_count": 1,
   "metadata": {},
   "outputs": [],
   "source": [
    "import pandas as pd\n",
    "import numpy as np\n",
    "import seaborn as sns\n",
    "import palettable\n",
    "import matplotlib.pyplot as plt\n",
    "%matplotlib inline\n",
    "from jupyterthemes import jtplot\n",
    "jtplot.style(theme='monokai', context='notebook', ticks=True, grid=False)"
   ]
  },
  {
   "cell_type": "code",
   "execution_count": 2,
   "metadata": {},
   "outputs": [],
   "source": [
    "# Show all Columns and Rows\n",
    "pd.set_option(\"display.max_columns\", None)\n",
    "pd.set_option(\"display.max_rows\", 10)\n",
    "\n",
    "import matplotlib.style\n",
    "import matplotlib as mpl\n",
    "mpl.rcParams['grid.color'] = 'white'\n",
    "# mpl.rcParams['legend.labelcolor'] = 'white'\n",
    "mpl.rcParams['axes.titlecolor'] = 'white'\n",
    "mpl.rcParams['axes.labelcolor'] = 'white'\n",
    "mpl.rcParams['xtick.color'] = 'white'\n",
    "mpl.rcParams['ytick.color'] = 'white'\n",
    "mpl.rcParams['axes.titlesize'] = '20.0'\n",
    "mpl.rcParams['figure.figsize'] = '13.0, 8.0'\n",
    "mpl.rcParams['legend.framealpha'] = '0.8'\n",
    "\n",
    "cmap_8 = palettable.scientific.sequential.LaJolla_8.hex_colors"
   ]
  },
  {
   "cell_type": "code",
   "execution_count": null,
   "metadata": {},
   "outputs": [],
   "source": []
  }
 ],
 "metadata": {
  "kernelspec": {
   "display_name": "Python 3",
   "language": "python",
   "name": "python3"
  },
  "language_info": {
   "codemirror_mode": {
    "name": "ipython",
    "version": 3
   },
   "file_extension": ".py",
   "mimetype": "text/x-python",
   "name": "python",
   "nbconvert_exporter": "python",
   "pygments_lexer": "ipython3",
   "version": "3.7.7"
  }
 },
 "nbformat": 4,
 "nbformat_minor": 4
}
